{
 "cells": [
  {
   "cell_type": "markdown",
   "metadata": {},
   "source": [
    "# Clustering with K-means\n",
    "\n",
    "compétences: c1 c2 c3 c4 c5 c20 Keywords: Unsupervised Learning, Clustering, Kmeans.\n",
    "Description\n",
    "\n",
    "Découvrir l'apprentissage non-supervisé au travers de l'algorithme K-means.\n",
    "Contexte\n",
    "\n",
    "L'apprentissage supervisé ce présente comme une approche de l'apprentissage automatique qui permet de découvrir la structure sous-jacente des données en l'absence d'étiquetage, c'est à dire sans catégories ou classe connue en avance.\n",
    "\n",
    "Afin de se familiariser avec cette approche et mieux l'appréhender pour l'utiliser dans des scénario plus complexe, les objectifs sont les suivants :\n",
    "\n",
    "Nous souhaitons comprendre le principe de cette technique et les scénarios d'utilisation\n",
    "Expérimenter et évaluer un algorithme de cet classe de problème d'apprentissage : les K-moyennes (ou K-means) sur un jeu de données simple.\n",
    "Comprendre et comparer les métrique d'évaluation en jeux\n",
    "tester sur des jeux précédemment utilisé de classification, la capacité de l'algorithme à retrouver les catégories de prédiction.\n",
    "\n",
    "Question de veilles:\n",
    "\n",
    "1-Qu'est ce que le clustering ? Est ce un probleme difficile ? pourquoi ?\n",
    "\n",
    "2-Quelle est la compléxité d'un probléme de clustering ? \n",
    "\n",
    "3-Quelle sont les métrique utilisé pour le clustering ?\n",
    "Ecriver en une phrase votre comprhéension pour chaque métrique découverte\n",
    "séparer les métrique avec \"ground truth\" et \"sans \"ground truth\".\n",
    "différenc entre NMI et AMI ?\n",
    "\n",
    "Ressources\n",
    "\n",
    "    https://le-datascientist.fr/apprentissage-supervise-vs-non-supervise\n",
    "    https://realpython.com/k-means-clustering-python/#writing-your-first-k-means-clustering-code-in-python\n",
    "    (fr) https://mrmint.fr/algorithme-k-means\n",
    "    https://scikit-learn.org/stable/modules/clustering.html#clustering\n",
    "    https://scikit-learn.org/stable/modules/clustering.html#clustering-evaluation\n",
    "\n",
    "Livrable\n",
    "\n",
    "Un git par apprenant avec les éléments suivants:\n",
    "\n",
    "Un notebook, résumant le travail\n",
    "\n",
    "Modalité pédagogique\n",
    "\n",
    "durée: 2 jours groupe: individuel"
   ]
  },
  {
   "cell_type": "markdown",
   "metadata": {},
   "source": [
    "### 1-Qu'est ce que le clustering ? Est ce un probleme difficile ? pourquoi\n",
    "le clustering est un processus qui partitionne un ensemble de données en sous-classes (clusters) ayant des similitude.\n",
    "cela peu être un problème car nous sommes sur un apprentissage non supervisé, c'est a dire que les données d'entrée ne sont pas labélisées. On peut donc se demander à quel point les clusters trouvés sont bon, plusieurs essaie sont donc necessaire. \n",
    "\n"
   ]
  },
  {
   "cell_type": "markdown",
   "metadata": {},
   "source": [
    "### 2-Quelle est la compléxité d'un probléme de clustering ? \n",
    "\n",
    "Temps necessaire pour le calcul en fonction du nombre de données.\n",
    "Trouver la solution optimale au problème de k-means clustering pour les observations en d dimensions.\n",
    "formule pour le temps d'exécution de l'algorithme de Lloyd: O(nkdi) \n",
    "\n",
    "n est le nombre de d vecteurs -dimensionnels (à regrouper)\n",
    "\n",
    "k le nombre de clusters\n",
    "\n",
    "i le nombre d'itérations nécessaires jusqu'à la convergence. \n"
   ]
  },
  {
   "cell_type": "markdown",
   "metadata": {},
   "source": [
    "### 3-Quelle sont les métrique utilisé pour le clustering ?\n",
    "Ecriver en une phrase votre comprhéension pour chaque métrique découverte\n",
    "séparer les métrique avec \"ground truth\" et sans \"ground truth\".\n",
    "différenc entre NMI et AMI ?\n",
    "\n",
    "-metrics.homogeneity_score - \n",
    "Métrique d'homogénéité d'un cluster labélisé avec \"ground truth\".\n",
    "Un résultat de clustering satisfait l'homogénéité si tous ses clusters contiennent uniquement des points de données appartenant à une seule classe. \n",
    "\n",
    "\n",
    "-metrics.completeness_score -\n",
    "Mesure d'exhaustivité d'un cluster labélisé avec \"ground truth\". \n",
    "Un résultat de clustering satisfait l'exhaustivité si tous les points de données qui sont membres d'une classe donnée sont des éléments du même cluster.\n",
    "\n",
    "\n",
    "-metrics.v_measure_score - \n",
    "Mesure en V de cluster labélisé  avec \"ground truth\". \n",
    "La v_measure_score est la moyenne harmonique entre l'homogénéité et l'exhaustivité.\n",
    "\n",
    "\n",
    "\n",
    "\n",
    "\n",
    "\n",
    "\n",
    "-metrics.adjusted_rand_score -\n",
    "L'adjusted_rand_score est ajusté au hasard. \n",
    "L'adjusted_rand_score calcule une mesure de similarité entre deux clusters en considérant toutes les paires d'échantillons et en comptant les paires qui sont affectés dans les mêmes clusters ou dans des clusters différents dans les regroupements. \n",
    "\n",
    "\n",
    "-metrics.adjusted_mutual_info_score - \n",
    "Ajustement des informations mutuelles entre deux clusters. \n",
    "L'adjusted_mutual_info_score (AMI) est un ajustement de la mutuelle Score d'information (IM) qui tient compte du hasard. Cela explique le fait que l'IM est généralement plus élevé pour deux clusters ayant un plus grand nombre de clusters, qu'il n'y ait , ou non, des informations partagées supplémentaire. \n",
    "\n",
    "\n",
    "-metrics.silhouette_score - \n",
    "Calcule le coefficient de silhouette moyen de tous les échantillons.\n",
    "Le silhouette_score est calculé en utilisant la distance moyenne intra-cluster (distance a) et la moyenne du groupe le plus proche (b) pour chaque échantillon. Le silhouette_score a pour échantillon (b - a) / max(a, b). \n",
    "il calcul, la meilleur distance entre un échantillon et le cluster le plus proche dont l'échantillon ne fait pas partie.\n",
    "\n",
    "\n",
    "\n",
    "Le NMI est souvent utilisé dans la littérature, alors que l'AMI est proposé et normalisé contre le hasard.\n"
   ]
  },
  {
   "cell_type": "code",
   "execution_count": 10,
   "metadata": {},
   "outputs": [],
   "source": [
    "# Import \n",
    "\n",
    "import numpy as np\n",
    "from sklearn.datasets import load_digits\n",
    "from sklearn.cluster import KMeans\n",
    "\n",
    "\n",
    "import matplotlib.pyplot as plt\n",
    "#from kneed import KneeLocator\n",
    "#from sklearn.datasets import make_blobs\n",
    "from sklearn.metrics import silhouette_score\n",
    "from sklearn.preprocessing import StandardScaler\n"
   ]
  },
  {
   "cell_type": "code",
   "execution_count": 11,
   "metadata": {},
   "outputs": [
    {
     "name": "stdout",
     "output_type": "stream",
     "text": [
      "(1797, 64)\n"
     ]
    }
   ],
   "source": [
    "# Import des données\n",
    "digits = load_digits()\n",
    "# taille\n",
    "print(digits.data.shape)\n",
    "\n",
    "#matrice de 1797 images"
   ]
  },
  {
   "cell_type": "code",
   "execution_count": 14,
   "metadata": {},
   "outputs": [
    {
     "name": "stdout",
     "output_type": "stream",
     "text": [
      "[[ 0.  0.  5. ...  0.  0.  0.]\n",
      " [ 0.  0.  0. ... 10.  0.  0.]\n",
      " [ 0.  0.  0. ... 16.  9.  0.]\n",
      " ...\n",
      " [ 0.  0.  1. ...  6.  0.  0.]\n",
      " [ 0.  0.  2. ... 12.  0.  0.]\n",
      " [ 0.  0. 10. ... 12.  1.  0.]]\n"
     ]
    }
   ],
   "source": [
    "features= digits.data"
   ]
  },
  {
   "cell_type": "code",
   "execution_count": 13,
   "metadata": {},
   "outputs": [
    {
     "data": {
      "text/plain": [
       "array([[ 0.,  0.,  5., 13.,  9.,  1.,  0.,  0.,  0.,  0., 13., 15., 10.,\n",
       "        15.,  5.,  0.,  0.,  3., 15.,  2.,  0., 11.,  8.,  0.,  0.,  4.,\n",
       "        12.,  0.,  0.,  8.,  8.,  0.,  0.,  5.,  8.,  0.,  0.,  9.,  8.,\n",
       "         0.,  0.,  4., 11.,  0.,  1., 12.,  7.,  0.,  0.,  2., 14.,  5.,\n",
       "        10., 12.,  0.,  0.,  0.,  0.,  6., 13., 10.,  0.,  0.,  0.],\n",
       "       [ 0.,  0.,  0., 12., 13.,  5.,  0.,  0.,  0.,  0.,  0., 11., 16.,\n",
       "         9.,  0.,  0.,  0.,  0.,  3., 15., 16.,  6.,  0.,  0.,  0.,  7.,\n",
       "        15., 16., 16.,  2.,  0.,  0.,  0.,  0.,  1., 16., 16.,  3.,  0.,\n",
       "         0.,  0.,  0.,  1., 16., 16.,  6.,  0.,  0.,  0.,  0.,  1., 16.,\n",
       "        16.,  6.,  0.,  0.,  0.,  0.,  0., 11., 16., 10.,  0.,  0.],\n",
       "       [ 0.,  0.,  0.,  4., 15., 12.,  0.,  0.,  0.,  0.,  3., 16., 15.,\n",
       "        14.,  0.,  0.,  0.,  0.,  8., 13.,  8., 16.,  0.,  0.,  0.,  0.,\n",
       "         1.,  6., 15., 11.,  0.,  0.,  0.,  1.,  8., 13., 15.,  1.,  0.,\n",
       "         0.,  0.,  9., 16., 16.,  5.,  0.,  0.,  0.,  0.,  3., 13., 16.,\n",
       "        16., 11.,  5.,  0.,  0.,  0.,  0.,  3., 11., 16.,  9.,  0.]])"
      ]
     },
     "execution_count": 13,
     "metadata": {},
     "output_type": "execute_result"
    }
   ],
   "source": [
    "features[:3]\n",
    "#chaque liste correspond a un nombre et chaque nombre dans la liste correspond a un pixel \n",
    "#(de 0 à 1( pour le niveau de gris))"
   ]
  },
  {
   "cell_type": "code",
   "execution_count": 36,
   "metadata": {},
   "outputs": [],
   "source": [
    "#normalisation, mise à léchelle de -2 à 2\n",
    "scaler = StandardScaler()\n",
    "scaled_features = scaler.fit_transform(features) "
   ]
  },
  {
   "cell_type": "code",
   "execution_count": 37,
   "metadata": {},
   "outputs": [
    {
     "data": {
      "text/plain": [
       "array([[ 0.        , -0.33501649, -0.04308102,  0.27407152, -0.66447751,\n",
       "        -0.84412939, -0.40972392, -0.12502292, -0.05907756, -0.62400926,\n",
       "         0.4829745 ,  0.75962245, -0.05842586,  1.12772113,  0.87958306,\n",
       "        -0.13043338, -0.04462507,  0.11144272,  0.89588044, -0.86066632,\n",
       "        -1.14964846,  0.51547187,  1.90596347, -0.11422184, -0.03337973,\n",
       "         0.48648928,  0.46988512, -1.49990136, -1.61406277,  0.07639777,\n",
       "         1.54181413, -0.04723238,  0.        ,  0.76465553,  0.05263019,\n",
       "        -1.44763006, -1.73666443,  0.04361588,  1.43955804,  0.        ,\n",
       "        -0.06134367,  0.8105536 ,  0.63011714, -1.12245711, -1.06623158,\n",
       "         0.66096475,  0.81845076, -0.08874162, -0.03543326,  0.74211893,\n",
       "         1.15065212, -0.86867056,  0.11012973,  0.53761116, -0.75743581,\n",
       "        -0.20978513, -0.02359646, -0.29908135,  0.08671869,  0.20829258,\n",
       "        -0.36677122, -1.14664746, -0.5056698 , -0.19600752],\n",
       "       [ 0.        , -0.33501649, -1.09493684,  0.03864775,  0.26875116,\n",
       "        -0.13801953, -0.40972392, -0.12502292, -0.05907756, -0.62400926,\n",
       "        -1.91557297, -0.24630352,  1.19644995,  0.13619465, -0.51499146,\n",
       "        -0.13043338, -0.04462507, -0.72764628, -1.2133854 ,  1.38030848,\n",
       "         1.44186017, -0.29155283, -0.54880546, -0.11422184, -0.03337973,\n",
       "         1.44018517,  0.95451315,  1.22058589,  0.98740215, -0.94558832,\n",
       "        -0.62889588, -0.04723238,  0.        , -0.67237227, -1.05445197,\n",
       "         1.10556952,  0.96064411, -0.97870236, -0.82269451,  0.        ,\n",
       "        -0.06134367, -0.5312841 , -0.89983895,  1.36217503,  1.33078862,\n",
       "        -0.39278683, -0.79827225, -0.08874162, -0.03543326, -0.40357499,\n",
       "        -1.15311752,  1.23639392,  1.24208282, -0.45750018, -0.75743581,\n",
       "        -0.20978513, -0.02359646, -0.29908135, -1.08938309, -0.24900951,\n",
       "         0.84963214,  0.54856067, -0.5056698 , -0.19600752],\n",
       "       [ 0.        , -0.33501649, -1.09493684, -1.84474239,  0.7353655 ,\n",
       "         1.09767273, -0.40972392, -0.12502292, -0.05907756, -0.62400926,\n",
       "        -1.36206201,  1.01110394,  0.98730398,  0.96246672, -0.51499146,\n",
       "        -0.13043338, -0.04462507, -0.72764628, -0.33452463,  1.03554312,\n",
       "         0.14610585,  1.32249658, -0.54880546, -0.11422184, -0.03337973,\n",
       "        -0.78510524, -1.30708431, -0.47971864,  0.8248106 ,  0.58739082,\n",
       "        -0.62889588, -0.04723238,  0.        , -0.38496671,  0.05263019,\n",
       "         0.6268446 ,  0.79206232, -1.31947511, -0.82269451,  0.        ,\n",
       "        -0.06134367,  2.48785073,  1.39509519,  1.36217503, -0.42702619,\n",
       "        -1.44653841, -0.79827225, -0.08874162, -0.03543326,  1.31496589,\n",
       "         0.97343907,  1.23639392,  1.24208282,  0.37175927,  0.25922997,\n",
       "        -0.20978513, -0.02359646, -0.29908135, -1.08938309, -2.07821787,\n",
       "        -0.16403733,  1.56568555,  1.6951369 , -0.19600752]])"
      ]
     },
     "execution_count": 37,
     "metadata": {},
     "output_type": "execute_result"
    }
   ],
   "source": [
    "scaled_features[:3]"
   ]
  },
  {
   "cell_type": "code",
   "execution_count": 56,
   "metadata": {},
   "outputs": [],
   "source": [
    "#definition des parametres de Kmeans\n",
    "kmeans = KMeans(\n",
    "#init='k-means++', \n",
    "n_clusters=10,         #définit le nombre de regroupement\n",
    "#n_init=10,\n",
    "#max_iter=300,\n",
    "#random_state=42\n",
    ")"
   ]
  },
  {
   "cell_type": "code",
   "execution_count": 57,
   "metadata": {},
   "outputs": [
    {
     "data": {
      "text/plain": [
       "KMeans(n_clusters=10)"
      ]
     },
     "execution_count": 57,
     "metadata": {},
     "output_type": "execute_result"
    }
   ],
   "source": [
    "#ajuster aux données\n",
    "kmeans.fit(scaled_features)"
   ]
  },
  {
   "cell_type": "code",
   "execution_count": 58,
   "metadata": {},
   "outputs": [
    {
     "data": {
      "text/plain": [
       "69417.31148910118"
      ]
     },
     "execution_count": 58,
     "metadata": {},
     "output_type": "execute_result"
    }
   ],
   "source": [
    "# la plus basse valeur de la somme de l'erreur quadratique\n",
    "kmeans.inertia_"
   ]
  },
  {
   "cell_type": "code",
   "execution_count": 53,
   "metadata": {},
   "outputs": [
    {
     "data": {
      "text/plain": [
       "array([[ 0.00000000e+00, -3.35016487e-01, -8.32563818e-01,\n",
       "        -1.10806662e-01, -5.29473926e-01, -7.24130379e-01,\n",
       "        -3.72550660e-01, -1.25022923e-01, -5.90775571e-02,\n",
       "        -6.04668883e-01, -5.53562867e-01,  6.42358609e-01,\n",
       "        -8.99709645e-01, -1.19790980e+00, -5.02455957e-01,\n",
       "        -1.30433381e-01, -4.46250733e-02, -4.93518450e-01,\n",
       "         4.93974448e-01,  3.75065677e-01, -1.02498670e+00,\n",
       "        -1.24184709e+00, -5.48805463e-01, -1.14221844e-01,\n",
       "        -3.33797263e-02,  1.14272803e-02,  7.52131035e-01,\n",
       "        -1.68314552e-01, -9.86532433e-01, -9.47502154e-01,\n",
       "        -5.99932757e-01, -4.72323823e-02,  0.00000000e+00,\n",
       "         3.72298500e-01,  1.11706391e+00,  6.08914823e-01,\n",
       "         3.48824826e-01,  3.24083335e-01, -1.72436411e-02,\n",
       "         0.00000000e+00, -6.13436689e-02,  1.05711889e-01,\n",
       "         1.16302320e+00,  5.05465493e-01, -3.88422496e-01,\n",
       "         3.43260623e-01,  1.37509135e+00,  6.60881878e-01,\n",
       "        -3.54332626e-02, -3.00591263e-01,  4.80627500e-01,\n",
       "         5.47248704e-01, -7.91829141e-01,  4.17415130e-01,\n",
       "         1.46552106e+00,  2.98279392e-01, -2.35964589e-02,\n",
       "        -2.99081347e-01, -7.85446673e-01, -2.63139634e-01,\n",
       "         6.75372106e-01,  1.06474202e+00,  5.86490828e-01,\n",
       "        -1.62775847e-01],\n",
       "       [ 0.00000000e+00, -3.35016487e-01, -1.05286261e+00,\n",
       "        -2.19145740e+00, -8.96934875e-02,  1.14902617e+00,\n",
       "         7.68729900e-01, -5.48969168e-02, -5.90775571e-02,\n",
       "        -5.95558126e-01, -1.36877124e+00, -6.16667175e-01,\n",
       "         6.31755831e-01,  7.07073532e-01,  8.74511879e-01,\n",
       "        -6.45321290e-02, -4.46250733e-02, -2.31820959e-01,\n",
       "        -1.58752479e-01,  8.13012759e-01,  5.90785174e-01,\n",
       "         7.13559757e-01,  5.39103494e-01, -5.20228580e-02,\n",
       "         2.39271947e-01,  3.99789651e-01,  4.17016611e-01,\n",
       "         4.39991538e-01,  4.44937593e-01,  8.50629664e-01,\n",
       "        -1.20752402e-01, -4.72323823e-02,  0.00000000e+00,\n",
       "        -1.21076154e-01, -1.14151020e-01, -1.73931635e-01,\n",
       "         3.53749687e-01,  4.78875613e-01, -4.06234386e-01,\n",
       "         0.00000000e+00, -6.13436689e-02, -2.62916558e-01,\n",
       "        -6.36964676e-01, -4.23654323e-01,  6.23304478e-01,\n",
       "         5.33237288e-01, -5.42116135e-01, -8.87416172e-02,\n",
       "        -3.54332626e-02, -3.67121088e-01, -1.16117266e+00,\n",
       "        -1.03046477e+00,  5.38899843e-01,  3.92867695e-01,\n",
       "        -4.30254276e-01, -2.09785127e-01, -2.35964589e-02,\n",
       "        -2.99081347e-01, -1.06621745e+00, -2.11771215e+00,\n",
       "        -3.50248519e-02,  5.65512752e-01, -5.66163132e-02,\n",
       "        -1.96007519e-01],\n",
       "       [ 0.00000000e+00,  1.69253030e+00,  1.46441283e+00,\n",
       "         5.82019198e-01, -1.92334569e-01,  1.42249198e-01,\n",
       "         2.10337606e-01, -1.02173810e-01,  3.43433799e-01,\n",
       "         1.62309117e+00,  8.24874630e-01, -2.46184137e-02,\n",
       "         8.33176129e-02, -4.09693151e-01, -1.26361213e-01,\n",
       "        -1.01803295e-01,  2.59417606e-01,  1.08574038e+00,\n",
       "        -4.74236714e-04, -2.62637317e-01,  2.09818891e-01,\n",
       "        -8.01776036e-01, -4.80455855e-01, -1.14221844e-01,\n",
       "         1.08760957e-01,  4.95669902e-02, -2.98016791e-01,\n",
       "         1.63334921e-01,  4.57581555e-02, -9.54468138e-01,\n",
       "        -5.55595841e-01, -4.72323823e-02,  0.00000000e+00,\n",
       "        -4.51710185e-01, -4.39822741e-01,  4.04498424e-01,\n",
       "        -7.32176347e-02, -1.18704210e+00, -7.91869983e-01,\n",
       "         0.00000000e+00, -6.13436689e-02, -3.97736270e-01,\n",
       "        -3.50940011e-01,  4.20870377e-01,  1.00091046e-01,\n",
       "        -8.93027512e-01, -6.54879754e-01, -7.33176220e-02,\n",
       "        -3.54332626e-02,  5.00491541e-01,  4.12404393e-01,\n",
       "         4.30102527e-01,  3.18459173e-01, -2.91648287e-01,\n",
       "        -4.72152581e-02, -1.37548465e-01, -2.35964589e-02,\n",
       "         1.57322797e+00,  1.48763613e+00,  4.81373446e-01,\n",
       "        -4.10008309e-01, -1.68889972e-01,  2.42998513e-01,\n",
       "        -1.29744625e-01],\n",
       "       [ 0.00000000e+00,  6.20668568e-03,  4.98636879e-01,\n",
       "         3.60520433e-01,  2.27801175e-01,  1.44098270e-01,\n",
       "        -1.77030077e-01, -1.20569193e-01, -1.00418203e-02,\n",
       "         3.76314300e-01,  6.11658339e-01, -7.10934456e-01,\n",
       "        -7.24333298e-02,  3.92281743e-01, -1.18197969e-01,\n",
       "        -1.22062552e-01, -7.58523185e-03,  2.30297518e-01,\n",
       "        -5.84852228e-02, -4.89625545e-01,  2.21666584e-01,\n",
       "         3.23127880e-01, -1.41330829e-01, -1.14221844e-01,\n",
       "        -3.33797263e-02, -2.32269980e-01, -2.91193534e-01,\n",
       "         3.28024182e-01,  5.81111010e-01,  3.49792822e-01,\n",
       "        -2.10294760e-01, -4.72323823e-02,  0.00000000e+00,\n",
       "        -5.70154131e-01, -7.88182456e-01, -5.52462368e-01,\n",
       "        -2.71599182e-01,  5.29197367e-01,  1.75204417e-01,\n",
       "         0.00000000e+00, -6.13436689e-02, -4.25145665e-01,\n",
       "        -7.70163688e-01, -9.28793523e-01, -8.26345030e-01,\n",
       "         5.97285384e-01,  6.55765008e-01, -5.86772940e-02,\n",
       "        -3.54332626e-02,  6.74031140e-02,  3.41689824e-02,\n",
       "        -7.20613327e-01, -5.48215577e-01,  6.61329778e-01,\n",
       "         4.07620914e-01, -1.41730295e-01, -2.35964589e-02,\n",
       "        -3.69906192e-02,  4.52948997e-01,  4.67043182e-01,\n",
       "         4.70852185e-01,  3.81780380e-01, -7.70292356e-02,\n",
       "        -1.71169234e-01],\n",
       "       [ 0.00000000e+00, -3.10238752e-01, -2.06177764e-01,\n",
       "         3.03168840e-01, -1.40191740e-01, -5.03966912e-01,\n",
       "        -3.99585759e-01, -1.25022923e-01, -5.90775571e-02,\n",
       "        -3.46211086e-01,  4.17672645e-01,  3.49905412e-01,\n",
       "         2.38843406e-01,  5.24264003e-01, -2.45478180e-01,\n",
       "        -1.30433381e-01, -4.46250733e-02,  3.20429312e-01,\n",
       "         7.71457454e-01, -2.98969956e-01, -8.06601146e-01,\n",
       "         6.93198664e-01,  5.32051362e-01, -1.14221844e-01,\n",
       "        -3.33797263e-02,  9.07972853e-01,  5.85143100e-01,\n",
       "        -1.15219864e+00, -1.57661191e+00,  2.57254863e-01,\n",
       "         1.12870850e+00, -4.72323823e-02,  0.00000000e+00,\n",
       "         1.02784152e+00,  6.15056355e-01, -1.30867433e+00,\n",
       "        -1.73098189e+00,  5.32680477e-03,  1.20443628e+00,\n",
       "         0.00000000e+00, -6.13436689e-02,  6.54131511e-01,\n",
       "         9.81663232e-01, -8.72074591e-01, -9.95308509e-01,\n",
       "         5.43552357e-01,  5.58944660e-01, -8.87416172e-02,\n",
       "        -3.54332626e-02,  5.98517672e-02,  9.90363911e-01,\n",
       "         7.42005066e-02,  1.70542961e-01,  7.50982414e-01,\n",
       "        -2.66237735e-01, -2.09785127e-01, -2.35964589e-02,\n",
       "        -2.93066651e-01, -2.70076231e-01,  3.39317333e-01,\n",
       "         3.10906680e-01, -2.21901899e-01, -4.38354242e-01,\n",
       "        -1.96007519e-01],\n",
       "       [ 0.00000000e+00, -3.35016487e-01, -1.02307092e+00,\n",
       "        -1.09021653e+00, -2.23294017e-03, -6.52251707e-01,\n",
       "        -3.77966076e-01, -1.25022923e-01, -5.90775571e-02,\n",
       "        -6.18177663e-01, -1.29788683e+00,  4.08173160e-01,\n",
       "        -3.53308688e-01, -1.07498676e+00, -3.71203029e-01,\n",
       "        -1.07920531e-01, -4.46250733e-02, -5.64345315e-01,\n",
       "         1.09818637e-01,  7.64656060e-01, -3.94127118e-01,\n",
       "        -4.38922562e-01,  4.40344439e-01,  2.11582368e-01,\n",
       "        -3.33797263e-02,  6.83941842e-01,  8.78256981e-01,\n",
       "        -4.95559987e-01, -5.04198659e-01,  4.66783766e-01,\n",
       "         9.82283289e-01,  8.45635664e-02,  0.00000000e+00,\n",
       "         1.89285624e+00,  1.12238393e+00,  3.01729554e-02,\n",
       "         4.16156360e-01,  9.30471660e-01,  7.52802798e-01,\n",
       "         0.00000000e+00,  6.23343120e-01,  1.78984509e+00,\n",
       "         8.23024649e-01,  8.58689791e-01,  1.16205428e+00,\n",
       "         4.55886804e-01, -3.96601935e-01, -8.87416172e-02,\n",
       "         2.68788299e-01,  2.97361976e-01, -7.57965442e-01,\n",
       "        -2.94562065e-01,  8.57734362e-01, -7.63450558e-01,\n",
       "        -7.52384054e-01, -2.09785127e-01, -2.35964589e-02,\n",
       "        -2.72482194e-01, -1.00659331e+00, -9.43483806e-01,\n",
       "         7.64730659e-02, -8.37087711e-01, -5.05669803e-01,\n",
       "        -1.96007519e-01],\n",
       "       [ 0.00000000e+00, -3.35016487e-01, -8.62803144e-01,\n",
       "        -8.13748649e-01,  1.07849667e-01,  7.20269184e-01,\n",
       "         2.71201430e+00,  5.49412561e+00, -5.90775571e-02,\n",
       "        -6.24009262e-01, -8.14913254e-01,  6.38217592e-01,\n",
       "        -2.31512181e-01, -1.60123608e-01,  3.34172841e+00,\n",
       "         6.82707232e+00, -4.46250733e-02, -6.11909866e-01,\n",
       "         1.09585655e-02,  1.37964360e-01, -9.54168284e-01,\n",
       "        -1.32684507e-02,  3.53542215e+00,  4.84024910e+00,\n",
       "        -3.33797263e-02, -6.16118082e-02,  3.19483322e-01,\n",
       "        -3.56593140e-01, -4.53495445e-01,  1.15711870e+00,\n",
       "         1.52310111e+00,  2.14785187e+00,  0.00000000e+00,\n",
       "         7.09179688e-02,  1.56248714e-01, -6.09785663e-02,\n",
       "         2.74690644e-01,  8.30918431e-01,  1.13409990e-01,\n",
       "         0.00000000e+00, -6.13436689e-02, -3.69338169e-01,\n",
       "        -6.62431970e-01, -3.35299947e-01,  7.13624800e-01,\n",
       "        -1.50545088e-01, -6.94738263e-01, -8.87416172e-02,\n",
       "        -3.54332626e-02, -4.03574986e-01, -1.26311183e+00,\n",
       "        -4.26541030e-01,  5.06963863e-01, -1.05799840e+00,\n",
       "        -7.57435810e-01, -2.09785127e-01, -2.35964589e-02,\n",
       "        -2.99081347e-01, -8.39292479e-01, -3.19970182e-01,\n",
       "        -8.00202306e-01, -1.04727319e+00, -5.05669803e-01,\n",
       "        -1.96007519e-01],\n",
       "       [ 0.00000000e+00, -2.76210663e-01,  4.14125648e-01,\n",
       "         4.74966469e-01, -1.03154746e+00, -8.39421988e-01,\n",
       "        -4.09723921e-01, -1.25022923e-01, -5.90775571e-02,\n",
       "        -6.90224256e-02,  1.45947830e-01,  3.17015023e-01,\n",
       "        -1.47661476e-01, -6.96687593e-01, -4.92678266e-01,\n",
       "        -1.30433381e-01, -4.46250733e-02, -8.62093523e-02,\n",
       "        -1.28285305e-01,  2.10404712e-01,  2.88638827e-01,\n",
       "        -4.24980917e-01, -4.66979832e-01, -1.14221844e-01,\n",
       "        -3.33797263e-02, -4.12104182e-01, -7.01837752e-01,\n",
       "        -3.39160133e-01,  1.05071967e-01, -4.20968793e-01,\n",
       "        -5.52921032e-01, -4.72323823e-02,  0.00000000e+00,\n",
       "        -6.14891163e-01, -9.40580661e-01, -5.09329216e-01,\n",
       "         3.89713801e-01, -7.17443258e-01, -7.96301568e-01,\n",
       "         0.00000000e+00, -6.13436689e-02, -5.22338513e-01,\n",
       "        -8.61080062e-01, -8.30526663e-02,  8.27947051e-01,\n",
       "        -6.33978860e-01, -6.50457573e-01,  4.14369021e-02,\n",
       "        -3.54332626e-02, -3.19557432e-01, -8.98392252e-02,\n",
       "         7.38833224e-01,  8.29548808e-01,  3.43011612e-01,\n",
       "         1.14034032e+00,  3.00118263e+00, -2.35964589e-02,\n",
       "        -2.84806468e-01,  1.91261070e-01,  4.52187025e-01,\n",
       "         3.84695742e-01,  1.22890420e+00,  2.94389093e+00,\n",
       "         4.07013353e+00],\n",
       "       [ 0.00000000e+00, -2.73072150e-01, -4.18991572e-02,\n",
       "         3.36233976e-01,  6.04294057e-01,  9.53872266e-01,\n",
       "         9.28513479e-01,  1.40411890e-01, -5.90775571e-02,\n",
       "        -3.56760384e-01,  1.13967197e-01, -1.58708844e-01,\n",
       "         7.37286844e-03,  7.40580173e-01,  7.91834551e-01,\n",
       "        -6.25575597e-02, -4.46250733e-02, -4.38521979e-01,\n",
       "        -7.97654630e-01, -8.72287622e-01, -4.03421847e-03,\n",
       "         6.56021121e-01,  2.30376809e-01, -1.01409319e-01,\n",
       "        -3.33797263e-02, -4.70778506e-01, -6.99937962e-01,\n",
       "        -3.55539096e-01,  4.67657230e-01,  7.32842026e-01,\n",
       "         6.30237875e-01, -4.72323823e-02,  0.00000000e+00,\n",
       "        -2.28346830e-01,  2.00122674e-01,  7.04839105e-01,\n",
       "         7.81644349e-01,  3.34612830e-01,  3.38616311e-01,\n",
       "         0.00000000e+00, -6.13436689e-02, -1.56247999e-01,\n",
       "        -2.83558884e-01,  6.69479131e-01,  5.54225897e-01,\n",
       "        -7.69690487e-01, -6.58138954e-01, -8.87416172e-02,\n",
       "        -3.54332626e-02, -3.84265538e-01, -8.43492474e-01,\n",
       "         5.92403305e-01, -6.14828986e-01, -1.37154908e+00,\n",
       "        -7.56293489e-01, -2.09785127e-01, -2.35964589e-02,\n",
       "        -2.44949082e-01,  1.48386948e-01,  6.44222565e-02,\n",
       "        -1.93738942e+00, -1.12093362e+00, -5.05669803e-01,\n",
       "        -1.96007519e-01],\n",
       "       [ 0.00000000e+00, -3.07903146e-01, -2.37932999e-01,\n",
       "         1.29343794e-01,  1.55922286e-01, -9.38876599e-02,\n",
       "        -2.75365573e-01, -1.25022923e-01, -5.90775571e-02,\n",
       "        -3.45677857e-01, -2.57308593e-01,  5.10202282e-01,\n",
       "         5.54440396e-01,  2.33044573e-01, -1.08050041e-01,\n",
       "        -1.30433381e-01, -4.46250733e-02, -3.25296225e-01,\n",
       "        -1.99814006e-01,  7.24689116e-01,  7.82698264e-01,\n",
       "         1.41726826e-01, -2.99807385e-01, -1.14221844e-01,\n",
       "        -3.33797263e-02, -4.55480842e-01, -2.80229023e-01,\n",
       "         7.74604374e-01,  6.11575766e-01, -5.26043484e-01,\n",
       "        -5.96646605e-01, -4.72323823e-02,  0.00000000e+00,\n",
       "        -4.66241237e-01, -4.91332190e-02,  8.49203165e-01,\n",
       "         3.96862406e-01, -1.10509553e+00, -8.21535574e-01,\n",
       "         0.00000000e+00, -6.13436689e-02, -1.99949174e-01,\n",
       "         3.99996697e-01,  7.53109211e-01,  5.97929167e-01,\n",
       "        -7.01570594e-01, -7.39585582e-01, -8.87416172e-02,\n",
       "         2.47876449e-02,  1.90170328e-02,  3.26320927e-01,\n",
       "         5.03856578e-01,  4.75076358e-01, -4.26233018e-01,\n",
       "        -5.75769301e-01, -2.05620664e-01,  1.50185659e-01,\n",
       "        -2.46428106e-01, -2.42654076e-01,  1.28639549e-01,\n",
       "         1.55019290e-01, -2.84453486e-01, -2.98216712e-01,\n",
       "        -1.89395852e-01]])"
      ]
     },
     "execution_count": 53,
     "metadata": {},
     "output_type": "execute_result"
    }
   ],
   "source": [
    "# Emplacements finaux du centre de gravité \n",
    "kmeans.cluster_centers_"
   ]
  },
  {
   "cell_type": "code",
   "execution_count": 46,
   "metadata": {},
   "outputs": [
    {
     "data": {
      "text/plain": [
       "28"
      ]
     },
     "execution_count": 46,
     "metadata": {},
     "output_type": "execute_result"
    }
   ],
   "source": [
    "#Le nombre d'itérations nécessaires pour converger \n",
    "kmeans.n_iter_"
   ]
  },
  {
   "cell_type": "code",
   "execution_count": 48,
   "metadata": {},
   "outputs": [
    {
     "data": {
      "text/plain": [
       "array([0, 1, 2, 3, 4, 5, 6, 7, 8, 9, 0, 1, 2, 3, 4, 5, 6, 7, 8, 9])"
      ]
     },
     "execution_count": 48,
     "metadata": {},
     "output_type": "execute_result"
    }
   ],
   "source": [
    "#targets connues\n",
    "digits.target[:20]"
   ]
  },
  {
   "cell_type": "code",
   "execution_count": 55,
   "metadata": {},
   "outputs": [
    {
     "data": {
      "text/plain": [
       "array([4, 9, 9, 3, 5, 3, 0, 8, 3, 3, 4, 1, 7, 3, 5, 2, 0, 8, 9, 3],\n",
       "      dtype=int32)"
      ]
     },
     "execution_count": 55,
     "metadata": {},
     "output_type": "execute_result"
    }
   ],
   "source": [
    "#affectation des cluster , 20 premières étiquettes prédites\n",
    "kmeans.labels_[:20]"
   ]
  },
  {
   "cell_type": "code",
   "execution_count": 71,
   "metadata": {},
   "outputs": [
    {
     "data": {
      "image/png": "[encoded data removed]",
      "text/plain": [
       "<Figure size 432x288 with 1 Axes>"
      ]
     },
     "metadata": {
      "needs_background": "light"
     },
     "output_type": "display_data"
    }
   ],
   "source": [
    "#centre de gravité et cluster répartie par couleur en fonction de chaque nombre\n",
    "from sklearn.decomposition import PCA\n",
    "pca = PCA(2)\n",
    "df = pca.fit_transform(features)\n",
    "label = kmeans.fit_predict(df)\n",
    "centroids = kmeans.cluster_centers_\n",
    "u_labels = np.unique(label)\n",
    "for i in u_labels:\n",
    "    plt.scatter(df[label == i , 0] , df[label == i , 1] , label = i)\n",
    "plt.scatter(centroids[:,0] , centroids[:,1] , s = 80, color = 'k')\n",
    "plt.legend()\n",
    "plt.show()"
   ]
  },
  {
   "cell_type": "code",
   "execution_count": 16,
   "metadata": {},
   "outputs": [
    {
     "name": "stdout",
     "output_type": "stream",
     "text": [
      "# digits: 10; # samples: 1797; # features 64\n"
     ]
    }
   ],
   "source": [
    "\n",
    "data, labels = load_digits(return_X_y=True)\n",
    "(n_samples, n_features), n_digits = data.shape, np.unique(labels).size\n",
    "\n",
    "print(\n",
    "    f\"# digits: {n_digits}; # samples: {n_samples}; # features {n_features}\"\n",
    ")\n"
   ]
  },
  {
   "cell_type": "code",
   "execution_count": 7,
   "metadata": {},
   "outputs": [],
   "source": [
    "from time import time\n",
    "from sklearn import metrics\n",
    "from sklearn.pipeline import make_pipeline\n",
    "from sklearn.preprocessing import StandardScaler\n",
    "\n",
    "\n",
    "def bench_k_means(kmeans, name, data, labels):\n",
    "    \"\"\"Benchmark to evaluate the KMeans initialization methods.\n",
    "\n",
    "    Parameters\n",
    "    ----------\n",
    "    kmeans : KMeans instance\n",
    "        A :class:`~sklearn.cluster.KMeans` instance with the initialization\n",
    "        already set.\n",
    "    name : str\n",
    "        Name given to the strategy. It will be used to show the results in a\n",
    "        table.\n",
    "    data : ndarray of shape (n_samples, n_features)\n",
    "        The data to cluster.\n",
    "    labels : ndarray of shape (n_samples,)\n",
    "        The labels used to compute the clustering metrics which requires some\n",
    "        supervision.\n",
    "    \"\"\"\n",
    "    t0 = time()\n",
    "    estimator = make_pipeline(StandardScaler(), kmeans).fit(data)\n",
    "    fit_time = time() - t0\n",
    "    results = [name, fit_time, estimator[-1].inertia_]\n",
    "\n",
    "    # Define the metrics which require only the true labels and estimator\n",
    "    # labels\n",
    "    clustering_metrics = [\n",
    "        metrics.homogeneity_score,\n",
    "        metrics.completeness_score,\n",
    "        metrics.v_measure_score,\n",
    "        metrics.adjusted_rand_score,\n",
    "        metrics.adjusted_mutual_info_score,\n",
    "    ]\n",
    "    results += [m(labels, estimator[-1].labels_) for m in clustering_metrics]\n",
    "\n",
    "    # The silhouette score requires the full dataset\n",
    "    results += [\n",
    "        metrics.silhouette_score(data, estimator[-1].labels_,\n",
    "                                 metric=\"euclidean\", sample_size=300,)\n",
    "    ]\n",
    "\n",
    "    # mise en page des résultats\n",
    "    formatter_result = (\"{:9s}\\t{:.3f}s\\t{:.0f}\\t{:.3f}\\t{:.3f}\"\n",
    "                        \"\\t{:.3f}\\t{:.3f}\\t{:.3f}\\t{:.3f}\")\n",
    "    print(formatter_result.format(*results))"
   ]
  },
  {
   "cell_type": "code",
   "execution_count": 8,
   "metadata": {},
   "outputs": [
    {
     "name": "stdout",
     "output_type": "stream",
     "text": [
      "__________________________________________________________________________________\n",
      "init\t\ttime\tinertia\thomo\tcompl\tv-meas\tARI\tAMI\tsilhouette\n",
      "k-means++\t0.182s\t69485\t0.613\t0.660\t0.636\t0.482\t0.632\t0.171\n",
      "random   \t0.082s\t69952\t0.545\t0.616\t0.578\t0.415\t0.574\t0.124\n",
      "PCA-based\t0.028s\t72686\t0.636\t0.658\t0.647\t0.521\t0.643\t0.145\n",
      "__________________________________________________________________________________\n"
     ]
    }
   ],
   "source": [
    "from sklearn.cluster import KMeans\n",
    "from sklearn.decomposition import PCA\n",
    "\n",
    "print(82 * '_')\n",
    "print('init\\t\\ttime\\tinertia\\thomo\\tcompl\\tv-meas\\tARI\\tAMI\\tsilhouette')\n",
    "\n",
    "kmeans = KMeans(init=\"k-means++\", n_clusters=n_digits, n_init=4,\n",
    "                random_state=0)\n",
    "bench_k_means(kmeans=kmeans, name=\"k-means++\", data=data, labels=labels)\n",
    "\n",
    "kmeans = KMeans(init=\"random\", n_clusters=n_digits, n_init=4, random_state=0)\n",
    "bench_k_means(kmeans=kmeans, name=\"random\", data=data, labels=labels)\n",
    "\n",
    "pca = PCA(n_components=n_digits).fit(data)\n",
    "kmeans = KMeans(init=pca.components_, n_clusters=n_digits, n_init=1)\n",
    "bench_k_means(kmeans=kmeans, name=\"PCA-based\", data=data, labels=labels)\n",
    "\n",
    "print(82 * '_')"
   ]
  }
 ],
 "metadata": {
  "kernelspec": {
   "display_name": "Python 3",
   "language": "python",
   "name": "python3"
  },
  "language_info": {
   "codemirror_mode": {
    "name": "ipython",
    "version": 3
   },
   "file_extension": ".py",
   "mimetype": "text/x-python",
   "name": "python",
   "nbconvert_exporter": "python",
   "pygments_lexer": "ipython3",
   "version": "3.7.9"
  }
 },
 "nbformat": 4,
 "nbformat_minor": 4
}
