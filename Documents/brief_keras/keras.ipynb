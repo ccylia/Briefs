{
 "cells": [
  {
   "cell_type": "markdown",
   "metadata": {},
   "source": [
    "# Le réseau de neurones le plus simple avec TensorFlow"
   ]
  },
  {
   "cell_type": "code",
   "execution_count": 1,
   "metadata": {},
   "outputs": [],
   "source": [
    "import numpy as np\n",
    "import matplotlib.pyplot as plt\n",
    "from tensorflow import keras\n"
   ]
  },
  {
   "cell_type": "markdown",
   "metadata": {},
   "source": [
    "https://lucidar.me/fr/neural-networks/simplest-neural-netwok-ever/"
   ]
  },
  {
   "cell_type": "code",
   "execution_count": 2,
   "metadata": {},
   "outputs": [],
   "source": [
    "#création du jeux de données et création du bruit\n",
    "#y=ax+b\n",
    "\n",
    "#parametres\n",
    "a=0.6\n",
    "b=2\n",
    "\n",
    "#bruit\n",
    "x_data= np.linspace(-10,10, num=100000) #Renvoie des nombres régulièrement espacés sur un intervalle spécifié. \n",
    "y_data= a*x_data+b+np.random.normal(size=100000) #Tirez des échantillons aléatoires à partir d'une distribution normale\n",
    "\n"
   ]
  },
  {
   "cell_type": "code",
   "execution_count": 3,
   "metadata": {},
   "outputs": [
    {
     "name": "stdout",
     "output_type": "stream",
     "text": [
      "Model: \"sequential\"\n",
      "_________________________________________________________________\n",
      "Layer (type)                 Output Shape              Param #   \n",
      "=================================================================\n",
      "dense (Dense)                (None, 1)                 2         \n",
      "=================================================================\n",
      "Total params: 2\n",
      "Trainable params: 2\n",
      "Non-trainable params: 0\n",
      "_________________________________________________________________\n"
     ]
    }
   ],
   "source": [
    "#données construite, création du réseau\n",
    "\n",
    "#création modele\n",
    "model0=keras.Sequential()#pile linéaire de couche\n",
    "model0.add(keras.layers.Dense(units = 1, activation ='linear', input_shape=[1]))\n",
    "#couche connecté au modele Dense ==== units > nbr de neurone, activation> fonction de transfert, input shape > nombre d'entrée\n",
    "\n",
    "model0.compile(loss='mse',optimizer=\"adam\")# modele compilé avec param d'optimisation\n",
    "# adam est un algo d'optimisation voir doc pour info\n",
    "#loss est l'erreur calculé sur la base des moindre carré voir metrique\n",
    "\n",
    "model0.summary()"
   ]
  },
  {
   "cell_type": "code",
   "execution_count": 4,
   "metadata": {},
   "outputs": [
    {
     "name": "stdout",
     "output_type": "stream",
     "text": [
      "Epoch 1/5\n",
      "3125/3125 [==============================] - 4s 1ms/step - loss: 4.0678\n",
      "Epoch 2/5\n",
      "3125/3125 [==============================] - 3s 1ms/step - loss: 1.0078\n",
      "Epoch 3/5\n",
      "3125/3125 [==============================] - 3s 975us/step - loss: 1.0066\n",
      "Epoch 4/5\n",
      "3125/3125 [==============================] - 3s 971us/step - loss: 1.0066\n",
      "Epoch 5/5\n",
      "3125/3125 [==============================] - 3s 991us/step - loss: 1.0067\n"
     ]
    },
    {
     "data": {
      "text/plain": [
       "<tensorflow.python.keras.callbacks.History at 0x7fddb431e410>"
      ]
     },
     "execution_count": 4,
     "metadata": {},
     "output_type": "execute_result"
    }
   ],
   "source": [
    "#entrainement du réseau grace au modele crée\n",
    "\n",
    "#apprentissage\n",
    "model0.fit(x_data, y_data, epochs=5, verbose=1)\n",
    "\n",
    "#x_data = entrée\n",
    "#y_data = sortie désirée\n",
    "#epoch= 5 le réseau sera entrainé 5 fois sur le jeu de données\n",
    "#verbose =1 affiche la progression\n"
   ]
  },
  {
   "cell_type": "code",
   "execution_count": 5,
   "metadata": {
    "scrolled": true
   },
   "outputs": [
    {
     "data": {
      "image/png": "[encoded data removed]",
      "text/plain": [
       "<Figure size 432x288 with 1 Axes>"
      ]
     },
     "metadata": {
      "needs_background": "light"
     },
     "output_type": "display_data"
    }
   ],
   "source": [
    "#prediction de l'approximation\n",
    "\n",
    "#prediction de la sortie \n",
    "y_predicted = model0.predict(x_data)\n",
    "\n",
    "#afficher le résultat\n",
    "plt.scatter(x_data[::500], y_data[::500])\n",
    "plt.plot(x_data, y_predicted, 'r', linewidth=4)\n",
    "plt.grid()\n",
    "plt.show()"
   ]
  },
  {
   "cell_type": "code",
   "execution_count": 6,
   "metadata": {},
   "outputs": [
    {
     "name": "stdout",
     "output_type": "stream",
     "text": [
      "[<tf.Variable 'dense/kernel:0' shape=(1, 1) dtype=float32, numpy=array([[0.5949254]], dtype=float32)>, <tf.Variable 'dense/bias:0' shape=(1,) dtype=float32, numpy=array([1.993158], dtype=float32)>]\n"
     ]
    }
   ],
   "source": [
    "print (model0.trainable_variables)"
   ]
  },
  {
   "cell_type": "code",
   "execution_count": 7,
   "metadata": {},
   "outputs": [],
   "source": [
    "#les poids sont de 0,6 et 2"
   ]
  },
  {
   "cell_type": "markdown",
   "metadata": {},
   "source": [
    "# Régression non linéaire avec un réseau de neurones"
   ]
  },
  {
   "cell_type": "code",
   "execution_count": 8,
   "metadata": {},
   "outputs": [],
   "source": [
    "import numpy as np\n",
    "import matplotlib.pyplot as plt\n",
    "import tensorflow as tf\n",
    "import math"
   ]
  },
  {
   "cell_type": "markdown",
   "metadata": {},
   "source": [
    "https://lucidar.me/fr/neural-networks/curve-fitting-nonlinear-regression/"
   ]
  },
  {
   "cell_type": "markdown",
   "metadata": {},
   "source": [
    "# m = 1/64/64/1"
   ]
  },
  {
   "cell_type": "code",
   "execution_count": 9,
   "metadata": {},
   "outputs": [],
   "source": [
    "#création données et bruit\n",
    "\n",
    "x_data1 = np.linspace(-10,10,num=1000)\n",
    "y_data1 = 0.1*x_data1*np.cos(x_data1) + 0.1*np.random.normal(size=1000)"
   ]
  },
  {
   "cell_type": "code",
   "execution_count": 10,
   "metadata": {},
   "outputs": [
    {
     "name": "stdout",
     "output_type": "stream",
     "text": [
      "Model: \"sequential_1\"\n",
      "_________________________________________________________________\n",
      "Layer (type)                 Output Shape              Param #   \n",
      "=================================================================\n",
      "dense_1 (Dense)              (None, 1)                 2         \n",
      "_________________________________________________________________\n",
      "dense_2 (Dense)              (None, 64)                128       \n",
      "_________________________________________________________________\n",
      "dense_3 (Dense)              (None, 64)                4160      \n",
      "_________________________________________________________________\n",
      "dense_4 (Dense)              (None, 1)                 65        \n",
      "=================================================================\n",
      "Total params: 4,355\n",
      "Trainable params: 4,355\n",
      "Non-trainable params: 0\n",
      "_________________________________________________________________\n"
     ]
    }
   ],
   "source": [
    "#creation du modèle\n",
    "\n",
    "model = keras.Sequential()\n",
    "model.add(keras.layers.Dense(units =1, activation = 'linear', input_shape=[1]))\n",
    "model.add(keras.layers.Dense(units = 64, activation = 'relu'))\n",
    "model.add(keras.layers.Dense(units = 64, activation = 'relu'))\n",
    "model.add(keras.layers.Dense(units = 1, activation = 'linear'))\n",
    "model.compile(loss='mse', optimizer='adam')\n",
    "\n",
    "model.summary()\n",
    "\n"
   ]
  },
  {
   "cell_type": "code",
   "execution_count": 11,
   "metadata": {},
   "outputs": [
    {
     "name": "stdout",
     "output_type": "stream",
     "text": [
      "Epoch 1/100\n",
      "32/32 - 0s - loss: 0.2094\n",
      "Epoch 2/100\n",
      "32/32 - 0s - loss: 0.1924\n",
      "Epoch 3/100\n",
      "32/32 - 0s - loss: 0.1922\n",
      "Epoch 4/100\n",
      "32/32 - 0s - loss: 0.1915\n",
      "Epoch 5/100\n",
      "32/32 - 0s - loss: 0.1881\n",
      "Epoch 6/100\n",
      "32/32 - 0s - loss: 0.1881\n",
      "Epoch 7/100\n",
      "32/32 - 0s - loss: 0.1897\n",
      "Epoch 8/100\n",
      "32/32 - 0s - loss: 0.1836\n",
      "Epoch 9/100\n",
      "32/32 - 0s - loss: 0.1919\n",
      "Epoch 10/100\n",
      "32/32 - 0s - loss: 0.1879\n",
      "Epoch 11/100\n",
      "32/32 - 0s - loss: 0.1808\n",
      "Epoch 12/100\n",
      "32/32 - 0s - loss: 0.1762\n",
      "Epoch 13/100\n",
      "32/32 - 0s - loss: 0.1712\n",
      "Epoch 14/100\n",
      "32/32 - 0s - loss: 0.1711\n",
      "Epoch 15/100\n",
      "32/32 - 0s - loss: 0.1598\n",
      "Epoch 16/100\n",
      "32/32 - 0s - loss: 0.1578\n",
      "Epoch 17/100\n",
      "32/32 - 0s - loss: 0.1513\n",
      "Epoch 18/100\n",
      "32/32 - 0s - loss: 0.1464\n",
      "Epoch 19/100\n",
      "32/32 - 0s - loss: 0.1319\n",
      "Epoch 20/100\n",
      "32/32 - 0s - loss: 0.1294\n",
      "Epoch 21/100\n",
      "32/32 - 0s - loss: 0.1157\n",
      "Epoch 22/100\n",
      "32/32 - 0s - loss: 0.1066\n",
      "Epoch 23/100\n",
      "32/32 - 0s - loss: 0.0994\n",
      "Epoch 24/100\n",
      "32/32 - 0s - loss: 0.0856\n",
      "Epoch 25/100\n",
      "32/32 - 0s - loss: 0.0731\n",
      "Epoch 26/100\n",
      "32/32 - 0s - loss: 0.0650\n",
      "Epoch 27/100\n",
      "32/32 - 0s - loss: 0.0544\n",
      "Epoch 28/100\n",
      "32/32 - 0s - loss: 0.0508\n",
      "Epoch 29/100\n",
      "32/32 - 0s - loss: 0.0422\n",
      "Epoch 30/100\n",
      "32/32 - 0s - loss: 0.0374\n",
      "Epoch 31/100\n",
      "32/32 - 0s - loss: 0.0292\n",
      "Epoch 32/100\n",
      "32/32 - 0s - loss: 0.0275\n",
      "Epoch 33/100\n",
      "32/32 - 0s - loss: 0.0235\n",
      "Epoch 34/100\n",
      "32/32 - 0s - loss: 0.0216\n",
      "Epoch 35/100\n",
      "32/32 - 0s - loss: 0.0199\n",
      "Epoch 36/100\n",
      "32/32 - 0s - loss: 0.0188\n",
      "Epoch 37/100\n",
      "32/32 - 0s - loss: 0.0193\n",
      "Epoch 38/100\n",
      "32/32 - 0s - loss: 0.0223\n",
      "Epoch 39/100\n",
      "32/32 - 0s - loss: 0.0205\n",
      "Epoch 40/100\n",
      "32/32 - 0s - loss: 0.0177\n",
      "Epoch 41/100\n",
      "32/32 - 0s - loss: 0.0167\n",
      "Epoch 42/100\n",
      "32/32 - 0s - loss: 0.0159\n",
      "Epoch 43/100\n",
      "32/32 - 0s - loss: 0.0169\n",
      "Epoch 44/100\n",
      "32/32 - 0s - loss: 0.0173\n",
      "Epoch 45/100\n",
      "32/32 - 0s - loss: 0.0157\n",
      "Epoch 46/100\n",
      "32/32 - 0s - loss: 0.0160\n",
      "Epoch 47/100\n",
      "32/32 - 0s - loss: 0.0155\n",
      "Epoch 48/100\n",
      "32/32 - 0s - loss: 0.0158\n",
      "Epoch 49/100\n",
      "32/32 - 0s - loss: 0.0162\n",
      "Epoch 50/100\n",
      "32/32 - 0s - loss: 0.0173\n",
      "Epoch 51/100\n",
      "32/32 - 0s - loss: 0.0156\n",
      "Epoch 52/100\n",
      "32/32 - 0s - loss: 0.0144\n",
      "Epoch 53/100\n",
      "32/32 - 0s - loss: 0.0153\n",
      "Epoch 54/100\n",
      "32/32 - 0s - loss: 0.0157\n",
      "Epoch 55/100\n",
      "32/32 - 0s - loss: 0.0152\n",
      "Epoch 56/100\n",
      "32/32 - 0s - loss: 0.0146\n",
      "Epoch 57/100\n",
      "32/32 - 0s - loss: 0.0158\n",
      "Epoch 58/100\n",
      "32/32 - 0s - loss: 0.0151\n",
      "Epoch 59/100\n",
      "32/32 - 0s - loss: 0.0148\n",
      "Epoch 60/100\n",
      "32/32 - 0s - loss: 0.0155\n",
      "Epoch 61/100\n",
      "32/32 - 0s - loss: 0.0152\n",
      "Epoch 62/100\n",
      "32/32 - 0s - loss: 0.0151\n",
      "Epoch 63/100\n",
      "32/32 - 0s - loss: 0.0149\n",
      "Epoch 64/100\n",
      "32/32 - 0s - loss: 0.0148\n",
      "Epoch 65/100\n",
      "32/32 - 0s - loss: 0.0147\n",
      "Epoch 66/100\n",
      "32/32 - 0s - loss: 0.0143\n",
      "Epoch 67/100\n",
      "32/32 - 0s - loss: 0.0143\n",
      "Epoch 68/100\n",
      "32/32 - 0s - loss: 0.0150\n",
      "Epoch 69/100\n",
      "32/32 - 0s - loss: 0.0161\n",
      "Epoch 70/100\n",
      "32/32 - 0s - loss: 0.0160\n",
      "Epoch 71/100\n",
      "32/32 - 0s - loss: 0.0145\n",
      "Epoch 72/100\n",
      "32/32 - 0s - loss: 0.0141\n",
      "Epoch 73/100\n",
      "32/32 - 0s - loss: 0.0154\n",
      "Epoch 74/100\n",
      "32/32 - 0s - loss: 0.0152\n",
      "Epoch 75/100\n",
      "32/32 - 0s - loss: 0.0150\n",
      "Epoch 76/100\n",
      "32/32 - 0s - loss: 0.0147\n",
      "Epoch 77/100\n",
      "32/32 - 0s - loss: 0.0152\n",
      "Epoch 78/100\n",
      "32/32 - 0s - loss: 0.0151\n",
      "Epoch 79/100\n",
      "32/32 - 0s - loss: 0.0143\n",
      "Epoch 80/100\n",
      "32/32 - 0s - loss: 0.0150\n",
      "Epoch 81/100\n",
      "32/32 - 0s - loss: 0.0147\n",
      "Epoch 82/100\n",
      "32/32 - 0s - loss: 0.0143\n",
      "Epoch 83/100\n",
      "32/32 - 0s - loss: 0.0149\n",
      "Epoch 84/100\n",
      "32/32 - 0s - loss: 0.0139\n",
      "Epoch 85/100\n",
      "32/32 - 0s - loss: 0.0141\n",
      "Epoch 86/100\n",
      "32/32 - 0s - loss: 0.0146\n",
      "Epoch 87/100\n",
      "32/32 - 0s - loss: 0.0152\n",
      "Epoch 88/100\n",
      "32/32 - 0s - loss: 0.0148\n",
      "Epoch 89/100\n",
      "32/32 - 0s - loss: 0.0140\n",
      "Epoch 90/100\n",
      "32/32 - 0s - loss: 0.0144\n",
      "Epoch 91/100\n",
      "32/32 - 0s - loss: 0.0143\n",
      "Epoch 92/100\n",
      "32/32 - 0s - loss: 0.0162\n",
      "Epoch 93/100\n",
      "32/32 - 0s - loss: 0.0155\n",
      "Epoch 94/100\n",
      "32/32 - 0s - loss: 0.0140\n",
      "Epoch 95/100\n",
      "32/32 - 0s - loss: 0.0142\n",
      "Epoch 96/100\n",
      "32/32 - 0s - loss: 0.0140\n",
      "Epoch 97/100\n",
      "32/32 - 0s - loss: 0.0133\n",
      "Epoch 98/100\n",
      "32/32 - 0s - loss: 0.0140\n",
      "Epoch 99/100\n",
      "32/32 - 0s - loss: 0.0148\n",
      "Epoch 100/100\n",
      "32/32 - 0s - loss: 0.0154\n",
      "{'loss': [0.2093590348958969, 0.19240525364875793, 0.19223839044570923, 0.19147726893424988, 0.18811985850334167, 0.18805590271949768, 0.18972089886665344, 0.18359161913394928, 0.19187238812446594, 0.18785467743873596, 0.18082143366336823, 0.17620228230953217, 0.17122004926204681, 0.17112810909748077, 0.15977223217487335, 0.15784703195095062, 0.15128788352012634, 0.14635901153087616, 0.1319391131401062, 0.12937740981578827, 0.11567128449678421, 0.10662674158811569, 0.0993906706571579, 0.08564036339521408, 0.07313065975904465, 0.06499268859624863, 0.054385434836149216, 0.05076657608151436, 0.04220861941576004, 0.03736799582839012, 0.029234331101179123, 0.027464212849736214, 0.023519443348050117, 0.021623050794005394, 0.01988867111504078, 0.018843339756131172, 0.01929454877972603, 0.02227649837732315, 0.020466169342398643, 0.017697665840387344, 0.016688499599695206, 0.015890035778284073, 0.016949893906712532, 0.017279507592320442, 0.015732010826468468, 0.01597312092781067, 0.015458778478205204, 0.015796486288309097, 0.016241950914263725, 0.017307288944721222, 0.015554394572973251, 0.014425748959183693, 0.01526701170951128, 0.01574121043086052, 0.015239045023918152, 0.014637915417551994, 0.015848366543650627, 0.015099184587597847, 0.014833719469606876, 0.015469432808458805, 0.015225779265165329, 0.015143245458602905, 0.014943404123187065, 0.014758073724806309, 0.014746513217687607, 0.014295789413154125, 0.014295719563961029, 0.014991099946200848, 0.016113489866256714, 0.016033736988902092, 0.014466666616499424, 0.014070193283259869, 0.01537852082401514, 0.015218573622405529, 0.014981760643422604, 0.014688217081129551, 0.015199493616819382, 0.015064451843500137, 0.014274545945227146, 0.015025084838271141, 0.014697232283651829, 0.014278389513492584, 0.014919819310307503, 0.013869074173271656, 0.014050482772290707, 0.014629015699028969, 0.015209069475531578, 0.014805357903242111, 0.014017622917890549, 0.014373930171132088, 0.014251848682761192, 0.016208885237574577, 0.015475252643227577, 0.013996152207255363, 0.014220738783478737, 0.014003878459334373, 0.013334391638636589, 0.014031288214027882, 0.014822131022810936, 0.015367351472377777]}\n"
     ]
    },
    {
     "data": {
      "text/plain": [
       "[<matplotlib.lines.Line2D at 0x7fdd801c9bd0>]"
      ]
     },
     "execution_count": 11,
     "metadata": {},
     "output_type": "execute_result"
    },
    {
     "data": {
      "image/png": "[encoded data removed]",
      "text/plain": [
       "<Figure size 432x288 with 1 Axes>"
      ]
     },
     "metadata": {
      "needs_background": "light"
     },
     "output_type": "display_data"
    }
   ],
   "source": [
    "#entrainement\n",
    "m = model.fit(x_data1, y_data1, epochs=100, verbose=2)\n",
    "print(m.history)\n",
    "plt.plot(list(m.history.values())[0],'k-o')"
   ]
  },
  {
   "cell_type": "code",
   "execution_count": 12,
   "metadata": {},
   "outputs": [
    {
     "data": {
      "image/png": "[encoded data removed]",
      "text/plain": [
       "<Figure size 432x288 with 1 Axes>"
      ]
     },
     "metadata": {
      "needs_background": "light"
     },
     "output_type": "display_data"
    }
   ],
   "source": [
    "#prédiction de l'approximation\n",
    "y_predicted1 = model.predict(x_data1)\n",
    "\n",
    "#résultat\n",
    "plt.scatter(x_data1[::1], y_data1[::1])\n",
    "plt.plot(x_data1,y_predicted1, 'r', linewidth=4)\n",
    "plt.grid()\n",
    "plt.show()\n"
   ]
  },
  {
   "cell_type": "markdown",
   "metadata": {},
   "source": [
    "# m1 = 1/75/64/64/1"
   ]
  },
  {
   "cell_type": "code",
   "execution_count": 13,
   "metadata": {},
   "outputs": [],
   "source": [
    "x_data2 = np.linspace(-10,10,num=1000)\n",
    "y_data2 = 0.1*x_data2*np.cos(x_data2) + 0.1*np.random.normal(size=1000)"
   ]
  },
  {
   "cell_type": "code",
   "execution_count": 14,
   "metadata": {},
   "outputs": [
    {
     "name": "stdout",
     "output_type": "stream",
     "text": [
      "Model: \"sequential_2\"\n",
      "_________________________________________________________________\n",
      "Layer (type)                 Output Shape              Param #   \n",
      "=================================================================\n",
      "dense_5 (Dense)              (None, 1)                 2         \n",
      "_________________________________________________________________\n",
      "dense_6 (Dense)              (None, 75)                150       \n",
      "_________________________________________________________________\n",
      "dense_7 (Dense)              (None, 64)                4864      \n",
      "_________________________________________________________________\n",
      "dense_8 (Dense)              (None, 64)                4160      \n",
      "_________________________________________________________________\n",
      "dense_9 (Dense)              (None, 1)                 65        \n",
      "=================================================================\n",
      "Total params: 9,241\n",
      "Trainable params: 9,241\n",
      "Non-trainable params: 0\n",
      "_________________________________________________________________\n"
     ]
    }
   ],
   "source": [
    "model2 = keras.Sequential()\n",
    "model2.add(keras.layers.Dense(units =1, activation = 'linear', input_shape=[1]))\n",
    "model2.add(keras.layers.Dense(units = 75, activation = 'relu'))\n",
    "model2.add(keras.layers.Dense(units = 64, activation = 'relu'))\n",
    "model2.add(keras.layers.Dense(units = 64, activation = 'relu'))\n",
    "model2.add(keras.layers.Dense(units = 1, activation = 'linear'))\n",
    "model2.compile(loss='mse', optimizer='adam')\n",
    "\n",
    "model2.summary()\n",
    "\n"
   ]
  },
  {
   "cell_type": "code",
   "execution_count": 15,
   "metadata": {},
   "outputs": [
    {
     "name": "stdout",
     "output_type": "stream",
     "text": [
      "Epoch 1/100\n",
      "32/32 - 0s - loss: 0.2075\n",
      "Epoch 2/100\n",
      "32/32 - 0s - loss: 0.1881\n",
      "Epoch 3/100\n",
      "32/32 - 0s - loss: 0.1910\n",
      "Epoch 4/100\n",
      "32/32 - 0s - loss: 0.1944\n",
      "Epoch 5/100\n",
      "32/32 - 0s - loss: 0.1904\n",
      "Epoch 6/100\n",
      "32/32 - 0s - loss: 0.1859\n",
      "Epoch 7/100\n",
      "32/32 - 0s - loss: 0.1899\n",
      "Epoch 8/100\n",
      "32/32 - 0s - loss: 0.1822\n",
      "Epoch 9/100\n",
      "32/32 - 0s - loss: 0.1836\n",
      "Epoch 10/100\n",
      "32/32 - 0s - loss: 0.1790\n",
      "Epoch 11/100\n",
      "32/32 - 0s - loss: 0.1801\n",
      "Epoch 12/100\n",
      "32/32 - 0s - loss: 0.1775\n",
      "Epoch 13/100\n",
      "32/32 - 0s - loss: 0.1699\n",
      "Epoch 14/100\n",
      "32/32 - 0s - loss: 0.1650\n",
      "Epoch 15/100\n",
      "32/32 - 0s - loss: 0.1630\n",
      "Epoch 16/100\n",
      "32/32 - 0s - loss: 0.1531\n",
      "Epoch 17/100\n",
      "32/32 - 0s - loss: 0.1393\n",
      "Epoch 18/100\n",
      "32/32 - 0s - loss: 0.1244\n",
      "Epoch 19/100\n",
      "32/32 - 0s - loss: 0.1161\n",
      "Epoch 20/100\n",
      "32/32 - 0s - loss: 0.0925\n",
      "Epoch 21/100\n",
      "32/32 - 0s - loss: 0.0766\n",
      "Epoch 22/100\n",
      "32/32 - 0s - loss: 0.0622\n",
      "Epoch 23/100\n",
      "32/32 - 0s - loss: 0.0458\n",
      "Epoch 24/100\n",
      "32/32 - 0s - loss: 0.0345\n",
      "Epoch 25/100\n",
      "32/32 - 0s - loss: 0.0274\n",
      "Epoch 26/100\n",
      "32/32 - 0s - loss: 0.0270\n",
      "Epoch 27/100\n",
      "32/32 - 0s - loss: 0.0266\n",
      "Epoch 28/100\n",
      "32/32 - 0s - loss: 0.0202\n",
      "Epoch 29/100\n",
      "32/32 - 0s - loss: 0.0210\n",
      "Epoch 30/100\n",
      "32/32 - 0s - loss: 0.0172\n",
      "Epoch 31/100\n",
      "32/32 - 0s - loss: 0.0167\n",
      "Epoch 32/100\n",
      "32/32 - 0s - loss: 0.0212\n",
      "Epoch 33/100\n",
      "32/32 - 0s - loss: 0.0183\n",
      "Epoch 34/100\n",
      "32/32 - 0s - loss: 0.0202\n",
      "Epoch 35/100\n",
      "32/32 - 0s - loss: 0.0192\n",
      "Epoch 36/100\n",
      "32/32 - 0s - loss: 0.0175\n",
      "Epoch 37/100\n",
      "32/32 - 0s - loss: 0.0181\n",
      "Epoch 38/100\n",
      "32/32 - 0s - loss: 0.0179\n",
      "Epoch 39/100\n",
      "32/32 - 0s - loss: 0.0195\n",
      "Epoch 40/100\n",
      "32/32 - 0s - loss: 0.0191\n",
      "Epoch 41/100\n",
      "32/32 - 0s - loss: 0.0168\n",
      "Epoch 42/100\n",
      "32/32 - 0s - loss: 0.0197\n",
      "Epoch 43/100\n",
      "32/32 - 0s - loss: 0.0181\n",
      "Epoch 44/100\n",
      "32/32 - 0s - loss: 0.0163\n",
      "Epoch 45/100\n",
      "32/32 - 0s - loss: 0.0187\n",
      "Epoch 46/100\n",
      "32/32 - 0s - loss: 0.0163\n",
      "Epoch 47/100\n",
      "32/32 - 0s - loss: 0.0171\n",
      "Epoch 48/100\n",
      "32/32 - 0s - loss: 0.0161\n",
      "Epoch 49/100\n",
      "32/32 - 0s - loss: 0.0161\n",
      "Epoch 50/100\n",
      "32/32 - 0s - loss: 0.0173\n",
      "Epoch 51/100\n",
      "32/32 - 0s - loss: 0.0209\n",
      "Epoch 52/100\n",
      "32/32 - 0s - loss: 0.0172\n",
      "Epoch 53/100\n",
      "32/32 - 0s - loss: 0.0176\n",
      "Epoch 54/100\n",
      "32/32 - 0s - loss: 0.0178\n",
      "Epoch 55/100\n",
      "32/32 - 0s - loss: 0.0192\n",
      "Epoch 56/100\n",
      "32/32 - 0s - loss: 0.0215\n",
      "Epoch 57/100\n",
      "32/32 - 0s - loss: 0.0185\n",
      "Epoch 58/100\n",
      "32/32 - 0s - loss: 0.0222\n",
      "Epoch 59/100\n",
      "32/32 - 0s - loss: 0.0187\n",
      "Epoch 60/100\n",
      "32/32 - 0s - loss: 0.0159\n",
      "Epoch 61/100\n",
      "32/32 - 0s - loss: 0.0175\n",
      "Epoch 62/100\n",
      "32/32 - 0s - loss: 0.0183\n",
      "Epoch 63/100\n",
      "32/32 - 0s - loss: 0.0163\n",
      "Epoch 64/100\n",
      "32/32 - 0s - loss: 0.0181\n",
      "Epoch 65/100\n",
      "32/32 - 0s - loss: 0.0170\n",
      "Epoch 66/100\n",
      "32/32 - 0s - loss: 0.0190\n",
      "Epoch 67/100\n",
      "32/32 - 0s - loss: 0.0164\n",
      "Epoch 68/100\n",
      "32/32 - 0s - loss: 0.0172\n",
      "Epoch 69/100\n",
      "32/32 - 0s - loss: 0.0187\n",
      "Epoch 70/100\n",
      "32/32 - 0s - loss: 0.0174\n",
      "Epoch 71/100\n",
      "32/32 - 0s - loss: 0.0160\n",
      "Epoch 72/100\n",
      "32/32 - 0s - loss: 0.0157\n",
      "Epoch 73/100\n",
      "32/32 - 0s - loss: 0.0185\n",
      "Epoch 74/100\n",
      "32/32 - 0s - loss: 0.0214\n",
      "Epoch 75/100\n",
      "32/32 - 0s - loss: 0.0166\n",
      "Epoch 76/100\n",
      "32/32 - 0s - loss: 0.0156\n",
      "Epoch 77/100\n",
      "32/32 - 0s - loss: 0.0149\n",
      "Epoch 78/100\n",
      "32/32 - 0s - loss: 0.0149\n",
      "Epoch 79/100\n",
      "32/32 - 0s - loss: 0.0156\n",
      "Epoch 80/100\n",
      "32/32 - 0s - loss: 0.0152\n",
      "Epoch 81/100\n",
      "32/32 - 0s - loss: 0.0176\n",
      "Epoch 82/100\n",
      "32/32 - 0s - loss: 0.0197\n",
      "Epoch 83/100\n",
      "32/32 - 0s - loss: 0.0175\n",
      "Epoch 84/100\n",
      "32/32 - 0s - loss: 0.0174\n",
      "Epoch 85/100\n",
      "32/32 - 0s - loss: 0.0145\n",
      "Epoch 86/100\n",
      "32/32 - 0s - loss: 0.0147\n",
      "Epoch 87/100\n",
      "32/32 - 0s - loss: 0.0159\n",
      "Epoch 88/100\n",
      "32/32 - 0s - loss: 0.0182\n",
      "Epoch 89/100\n",
      "32/32 - 0s - loss: 0.0157\n",
      "Epoch 90/100\n",
      "32/32 - 0s - loss: 0.0152\n",
      "Epoch 91/100\n",
      "32/32 - 0s - loss: 0.0146\n",
      "Epoch 92/100\n",
      "32/32 - 0s - loss: 0.0147\n",
      "Epoch 93/100\n",
      "32/32 - 0s - loss: 0.0154\n",
      "Epoch 94/100\n",
      "32/32 - 0s - loss: 0.0175\n",
      "Epoch 95/100\n",
      "32/32 - 0s - loss: 0.0161\n",
      "Epoch 96/100\n",
      "32/32 - 0s - loss: 0.0145\n",
      "Epoch 97/100\n",
      "32/32 - 0s - loss: 0.0155\n",
      "Epoch 98/100\n",
      "32/32 - 0s - loss: 0.0151\n",
      "Epoch 99/100\n",
      "32/32 - 0s - loss: 0.0152\n",
      "Epoch 100/100\n",
      "32/32 - 0s - loss: 0.0144\n"
     ]
    }
   ],
   "source": [
    "m1 = model2.fit(x_data2, y_data2, epochs=100, verbose=2)\n",
    "#print(m1.history)\n",
    "#plt.plot(list(m1.history.values())[0],'k-o')"
   ]
  },
  {
   "cell_type": "markdown",
   "metadata": {},
   "source": [
    "# m2 = 10/64/64/1"
   ]
  },
  {
   "cell_type": "code",
   "execution_count": 16,
   "metadata": {},
   "outputs": [],
   "source": [
    "x_data3 = np.linspace(-10,10,num=1000)\n",
    "y_data3 = 0.1*x_data3*np.cos(x_data3) + 0.1*np.random.normal(size=1000)\n",
    "   "
   ]
  },
  {
   "cell_type": "code",
   "execution_count": 17,
   "metadata": {},
   "outputs": [
    {
     "name": "stdout",
     "output_type": "stream",
     "text": [
      "Model: \"sequential_3\"\n",
      "_________________________________________________________________\n",
      "Layer (type)                 Output Shape              Param #   \n",
      "=================================================================\n",
      "dense_10 (Dense)             (None, 10)                20        \n",
      "_________________________________________________________________\n",
      "dense_11 (Dense)             (None, 64)                704       \n",
      "_________________________________________________________________\n",
      "dense_12 (Dense)             (None, 64)                4160      \n",
      "_________________________________________________________________\n",
      "dense_13 (Dense)             (None, 1)                 65        \n",
      "=================================================================\n",
      "Total params: 4,949\n",
      "Trainable params: 4,949\n",
      "Non-trainable params: 0\n",
      "_________________________________________________________________\n"
     ]
    }
   ],
   "source": [
    "model3 = keras.Sequential()\n",
    "model3.add(keras.layers.Dense(units =10, activation = 'linear', input_shape=[1]))\n",
    "#model3.add(keras.layers.Dense(units = 75, activation = 'relu'))\n",
    "model3.add(keras.layers.Dense(units = 64, activation = 'relu'))\n",
    "model3.add(keras.layers.Dense(units = 64, activation = 'relu'))\n",
    "model3.add(keras.layers.Dense(units = 1, activation = 'linear'))\n",
    "model3.compile(loss='mse', optimizer='adam')\n",
    "\n",
    "model3.summary()"
   ]
  },
  {
   "cell_type": "code",
   "execution_count": 18,
   "metadata": {},
   "outputs": [
    {
     "name": "stdout",
     "output_type": "stream",
     "text": [
      "Epoch 1/100\n",
      "32/32 - 0s - loss: 0.2534\n",
      "Epoch 2/100\n",
      "32/32 - 0s - loss: 0.1928\n",
      "Epoch 3/100\n",
      "32/32 - 0s - loss: 0.1990\n",
      "Epoch 4/100\n",
      "32/32 - 0s - loss: 0.1917\n",
      "Epoch 5/100\n",
      "32/32 - 0s - loss: 0.1926\n",
      "Epoch 6/100\n",
      "32/32 - 0s - loss: 0.1911\n",
      "Epoch 7/100\n",
      "32/32 - 0s - loss: 0.1879\n",
      "Epoch 8/100\n",
      "32/32 - 0s - loss: 0.1887\n",
      "Epoch 9/100\n",
      "32/32 - 0s - loss: 0.1907\n",
      "Epoch 10/100\n",
      "32/32 - 0s - loss: 0.1852\n",
      "Epoch 11/100\n",
      "32/32 - 0s - loss: 0.1936\n",
      "Epoch 12/100\n",
      "32/32 - 0s - loss: 0.1917\n",
      "Epoch 13/100\n",
      "32/32 - 0s - loss: 0.1904\n",
      "Epoch 14/100\n",
      "32/32 - 0s - loss: 0.1791\n",
      "Epoch 15/100\n",
      "32/32 - 0s - loss: 0.1821\n",
      "Epoch 16/100\n",
      "32/32 - 0s - loss: 0.1835\n",
      "Epoch 17/100\n",
      "32/32 - 0s - loss: 0.1753\n",
      "Epoch 18/100\n",
      "32/32 - 0s - loss: 0.1715\n",
      "Epoch 19/100\n",
      "32/32 - 0s - loss: 0.1735\n",
      "Epoch 20/100\n",
      "32/32 - 0s - loss: 0.1578\n",
      "Epoch 21/100\n",
      "32/32 - 0s - loss: 0.1521\n",
      "Epoch 22/100\n",
      "32/32 - 0s - loss: 0.1547\n",
      "Epoch 23/100\n",
      "32/32 - 0s - loss: 0.1408\n",
      "Epoch 24/100\n",
      "32/32 - 0s - loss: 0.1274\n",
      "Epoch 25/100\n",
      "32/32 - 0s - loss: 0.1197\n",
      "Epoch 26/100\n",
      "32/32 - 0s - loss: 0.1075\n",
      "Epoch 27/100\n",
      "32/32 - 0s - loss: 0.1003\n",
      "Epoch 28/100\n",
      "32/32 - 0s - loss: 0.0887\n",
      "Epoch 29/100\n",
      "32/32 - 0s - loss: 0.0784\n",
      "Epoch 30/100\n",
      "32/32 - 0s - loss: 0.0674\n",
      "Epoch 31/100\n",
      "32/32 - 0s - loss: 0.0578\n",
      "Epoch 32/100\n",
      "32/32 - 0s - loss: 0.0475\n",
      "Epoch 33/100\n",
      "32/32 - 0s - loss: 0.0401\n",
      "Epoch 34/100\n",
      "32/32 - 0s - loss: 0.0358\n",
      "Epoch 35/100\n",
      "32/32 - 0s - loss: 0.0326\n",
      "Epoch 36/100\n",
      "32/32 - 0s - loss: 0.0284\n",
      "Epoch 37/100\n",
      "32/32 - 0s - loss: 0.0260\n",
      "Epoch 38/100\n",
      "32/32 - 0s - loss: 0.0262\n",
      "Epoch 39/100\n",
      "32/32 - 0s - loss: 0.0269\n",
      "Epoch 40/100\n",
      "32/32 - 0s - loss: 0.0200\n",
      "Epoch 41/100\n",
      "32/32 - 0s - loss: 0.0194\n",
      "Epoch 42/100\n",
      "32/32 - 0s - loss: 0.0201\n",
      "Epoch 43/100\n",
      "32/32 - 0s - loss: 0.0174\n",
      "Epoch 44/100\n",
      "32/32 - 0s - loss: 0.0171\n",
      "Epoch 45/100\n",
      "32/32 - 0s - loss: 0.0205\n",
      "Epoch 46/100\n",
      "32/32 - 0s - loss: 0.0209\n",
      "Epoch 47/100\n",
      "32/32 - 0s - loss: 0.0220\n",
      "Epoch 48/100\n",
      "32/32 - 0s - loss: 0.0232\n",
      "Epoch 49/100\n",
      "32/32 - 0s - loss: 0.0166\n",
      "Epoch 50/100\n",
      "32/32 - 0s - loss: 0.0166\n",
      "Epoch 51/100\n",
      "32/32 - 0s - loss: 0.0164\n",
      "Epoch 52/100\n",
      "32/32 - 0s - loss: 0.0182\n",
      "Epoch 53/100\n",
      "32/32 - 0s - loss: 0.0169\n",
      "Epoch 54/100\n",
      "32/32 - 0s - loss: 0.0186\n",
      "Epoch 55/100\n",
      "32/32 - 0s - loss: 0.0189\n",
      "Epoch 56/100\n",
      "32/32 - 0s - loss: 0.0183\n",
      "Epoch 57/100\n",
      "32/32 - 0s - loss: 0.0211\n",
      "Epoch 58/100\n",
      "32/32 - 0s - loss: 0.0176\n",
      "Epoch 59/100\n",
      "32/32 - 0s - loss: 0.0231\n",
      "Epoch 60/100\n",
      "32/32 - 0s - loss: 0.0174\n",
      "Epoch 61/100\n",
      "32/32 - 0s - loss: 0.0173\n",
      "Epoch 62/100\n",
      "32/32 - 0s - loss: 0.0167\n",
      "Epoch 63/100\n",
      "32/32 - 0s - loss: 0.0153\n",
      "Epoch 64/100\n",
      "32/32 - 0s - loss: 0.0159\n",
      "Epoch 65/100\n",
      "32/32 - 0s - loss: 0.0215\n",
      "Epoch 66/100\n",
      "32/32 - 0s - loss: 0.0192\n",
      "Epoch 67/100\n",
      "32/32 - 0s - loss: 0.0228\n",
      "Epoch 68/100\n",
      "32/32 - 0s - loss: 0.0184\n",
      "Epoch 69/100\n",
      "32/32 - 0s - loss: 0.0172\n",
      "Epoch 70/100\n",
      "32/32 - 0s - loss: 0.0159\n",
      "Epoch 71/100\n",
      "32/32 - 0s - loss: 0.0165\n",
      "Epoch 72/100\n",
      "32/32 - 0s - loss: 0.0154\n",
      "Epoch 73/100\n",
      "32/32 - 0s - loss: 0.0169\n",
      "Epoch 74/100\n",
      "32/32 - 0s - loss: 0.0192\n",
      "Epoch 75/100\n",
      "32/32 - 0s - loss: 0.0206\n",
      "Epoch 76/100\n",
      "32/32 - 0s - loss: 0.0164\n",
      "Epoch 77/100\n",
      "32/32 - 0s - loss: 0.0157\n",
      "Epoch 78/100\n",
      "32/32 - 0s - loss: 0.0151\n",
      "Epoch 79/100\n",
      "32/32 - 0s - loss: 0.0180\n",
      "Epoch 80/100\n",
      "32/32 - 0s - loss: 0.0160\n",
      "Epoch 81/100\n",
      "32/32 - 0s - loss: 0.0170\n",
      "Epoch 82/100\n",
      "32/32 - 0s - loss: 0.0186\n",
      "Epoch 83/100\n",
      "32/32 - 0s - loss: 0.0174\n",
      "Epoch 84/100\n",
      "32/32 - 0s - loss: 0.0161\n",
      "Epoch 85/100\n",
      "32/32 - 0s - loss: 0.0164\n",
      "Epoch 86/100\n",
      "32/32 - 0s - loss: 0.0202\n",
      "Epoch 87/100\n",
      "32/32 - 0s - loss: 0.0153\n",
      "Epoch 88/100\n",
      "32/32 - 0s - loss: 0.0156\n",
      "Epoch 89/100\n",
      "32/32 - 0s - loss: 0.0164\n",
      "Epoch 90/100\n",
      "32/32 - 0s - loss: 0.0169\n",
      "Epoch 91/100\n",
      "32/32 - 0s - loss: 0.0172\n",
      "Epoch 92/100\n",
      "32/32 - 0s - loss: 0.0173\n",
      "Epoch 93/100\n",
      "32/32 - 0s - loss: 0.0163\n",
      "Epoch 94/100\n",
      "32/32 - 0s - loss: 0.0156\n",
      "Epoch 95/100\n",
      "32/32 - 0s - loss: 0.0179\n",
      "Epoch 96/100\n",
      "32/32 - 0s - loss: 0.0178\n",
      "Epoch 97/100\n",
      "32/32 - 0s - loss: 0.0164\n",
      "Epoch 98/100\n",
      "32/32 - 0s - loss: 0.0175\n",
      "Epoch 99/100\n",
      "32/32 - 0s - loss: 0.0182\n",
      "Epoch 100/100\n",
      "32/32 - 0s - loss: 0.0149\n"
     ]
    }
   ],
   "source": [
    "m2 = model3.fit(x_data3, y_data3, epochs=100, verbose=2)\n",
    "#print(m2.history)"
   ]
  },
  {
   "cell_type": "markdown",
   "metadata": {},
   "source": [
    "# comparaison"
   ]
  },
  {
   "cell_type": "code",
   "execution_count": 19,
   "metadata": {},
   "outputs": [
    {
     "data": {
      "text/plain": [
       "[<matplotlib.lines.Line2D at 0x7fdd9c3a13d0>]"
      ]
     },
     "execution_count": 19,
     "metadata": {},
     "output_type": "execute_result"
    },
    {
     "data": {
      "image/png": "[encoded data removed]",
      "text/plain": [
       "<Figure size 432x288 with 1 Axes>"
      ]
     },
     "metadata": {
      "needs_background": "light"
     },
     "output_type": "display_data"
    }
   ],
   "source": [
    "plt.plot(list(m.history.values())[0],'k-o') #1/64/64/1\n",
    "plt.plot(list(m1.history.values())[0],'b-o') #1/75/64/64/1\n",
    "plt.plot(list(m2.history.values())[0],'r-o') #10/64/64/1"
   ]
  },
  {
   "cell_type": "code",
   "execution_count": 34,
   "metadata": {},
   "outputs": [
    {
     "data": {
      "image/png": "[encoded data removed]",
      "text/plain": [
       "<IPython.core.display.Image object>"
      ]
     },
     "execution_count": 34,
     "metadata": {},
     "output_type": "execute_result"
    }
   ],
   "source": [
    "from keras.utils.vis_utils import plot_model, model_to_dot\n",
    "import pydot\n",
    "plot_model(model,to_file='model_plot.png', show_shapes=True, show_layer_names=True)\n",
    "\n",
    "plot_model(model2,to_file='model_plot.png', show_shapes=True, show_layer_names=True)\n",
    "\n",
    "plot_model(model3,to_file='model_plot.png', show_shapes=True, show_layer_names=True)"
   ]
  }
 ],
 "metadata": {
  "kernelspec": {
   "display_name": "Python 3",
   "language": "python",
   "name": "python3"
  },
  "language_info": {
   "codemirror_mode": {
    "name": "ipython",
    "version": 3
   },
   "file_extension": ".py",
   "mimetype": "text/x-python",
   "name": "python",
   "nbconvert_exporter": "python",
   "pygments_lexer": "ipython3",
   "version": "3.7.9"
  }
 },
 "nbformat": 4,
 "nbformat_minor": 4
}
